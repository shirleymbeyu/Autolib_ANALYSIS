{
  "nbformat": 4,
  "nbformat_minor": 0,
  "metadata": {
    "colab": {
      "name": "Shirley's_Autolib_data_set_cleaning_and_analysis.ipynb",
      "provenance": [],
      "collapsed_sections": [],
      "toc_visible": true,
      "authorship_tag": "ABX9TyOow3oCJHU/JUxTm4Y3M79V",
      "include_colab_link": true
    },
    "kernelspec": {
      "name": "python3",
      "display_name": "Python 3"
    }
  },
  "cells": [
    {
      "cell_type": "markdown",
      "metadata": {
        "id": "view-in-github",
        "colab_type": "text"
      },
      "source": [
        "<a href=\"https://colab.research.google.com/github/shirleymbeyu/ip_w4_Autolib/blob/master/Shirley's_Autolib_data_set_cleaning_and_analysis.ipynb\" target=\"_parent\"><img src=\"https://colab.research.google.com/assets/colab-badge.svg\" alt=\"Open In Colab\"/></a>"
      ]
    },
    {
      "cell_type": "markdown",
      "metadata": {
        "id": "4g0nlMxuI87_",
        "colab_type": "text"
      },
      "source": [
        "# Importing libraries"
      ]
    },
    {
      "cell_type": "code",
      "metadata": {
        "id": "NZFgQJ_VJWjV",
        "colab_type": "code",
        "colab": {}
      },
      "source": [
        "#I'm going to import libraries I'll use for this session\n",
        "import pandas as pd\n",
        "import numpy as np"
      ],
      "execution_count": null,
      "outputs": []
    },
    {
      "cell_type": "markdown",
      "metadata": {
        "id": "WdOk0WHlJEy6",
        "colab_type": "text"
      },
      "source": [
        "# Loading the data"
      ]
    },
    {
      "cell_type": "code",
      "metadata": {
        "id": "typAQll_Jdeu",
        "colab_type": "code",
        "colab": {
          "base_uri": "https://localhost:8080/",
          "height": 443
        },
        "outputId": "ecc3771b-548f-4a5b-fbc9-82d39c31dcd2"
      },
      "source": [
        "link = 'http://bit.ly/autolib_dataset'\n",
        "autolib = pd.read_csv(link)\n",
        "autolib[:5]"
      ],
      "execution_count": null,
      "outputs": [
        {
          "output_type": "execute_result",
          "data": {
            "text/html": [
              "<div>\n",
              "<style scoped>\n",
              "    .dataframe tbody tr th:only-of-type {\n",
              "        vertical-align: middle;\n",
              "    }\n",
              "\n",
              "    .dataframe tbody tr th {\n",
              "        vertical-align: top;\n",
              "    }\n",
              "\n",
              "    .dataframe thead th {\n",
              "        text-align: right;\n",
              "    }\n",
              "</style>\n",
              "<table border=\"1\" class=\"dataframe\">\n",
              "  <thead>\n",
              "    <tr style=\"text-align: right;\">\n",
              "      <th></th>\n",
              "      <th>Address</th>\n",
              "      <th>Cars</th>\n",
              "      <th>Bluecar counter</th>\n",
              "      <th>Utilib counter</th>\n",
              "      <th>Utilib 1.4 counter</th>\n",
              "      <th>Charge Slots</th>\n",
              "      <th>Charging Status</th>\n",
              "      <th>City</th>\n",
              "      <th>Displayed comment</th>\n",
              "      <th>ID</th>\n",
              "      <th>Kind</th>\n",
              "      <th>Geo point</th>\n",
              "      <th>Postal code</th>\n",
              "      <th>Public name</th>\n",
              "      <th>Rental status</th>\n",
              "      <th>Scheduled at</th>\n",
              "      <th>Slots</th>\n",
              "      <th>Station type</th>\n",
              "      <th>Status</th>\n",
              "      <th>Subscription status</th>\n",
              "      <th>year</th>\n",
              "      <th>month</th>\n",
              "      <th>day</th>\n",
              "      <th>hour</th>\n",
              "      <th>minute</th>\n",
              "    </tr>\n",
              "  </thead>\n",
              "  <tbody>\n",
              "    <tr>\n",
              "      <th>0</th>\n",
              "      <td>2 Avenue de Suffren</td>\n",
              "      <td>0</td>\n",
              "      <td>0</td>\n",
              "      <td>0</td>\n",
              "      <td>0</td>\n",
              "      <td>0</td>\n",
              "      <td>nonexistent</td>\n",
              "      <td>Paris</td>\n",
              "      <td>NaN</td>\n",
              "      <td>paris-suffren-2</td>\n",
              "      <td>STATION</td>\n",
              "      <td>48.857, 2.2917</td>\n",
              "      <td>75015</td>\n",
              "      <td>Paris/Suffren/2</td>\n",
              "      <td>operational</td>\n",
              "      <td>NaN</td>\n",
              "      <td>2</td>\n",
              "      <td>station</td>\n",
              "      <td>ok</td>\n",
              "      <td>nonexistent</td>\n",
              "      <td>2018</td>\n",
              "      <td>4</td>\n",
              "      <td>8</td>\n",
              "      <td>11</td>\n",
              "      <td>43</td>\n",
              "    </tr>\n",
              "    <tr>\n",
              "      <th>1</th>\n",
              "      <td>145 Rue Raymond Losserand</td>\n",
              "      <td>6</td>\n",
              "      <td>6</td>\n",
              "      <td>0</td>\n",
              "      <td>0</td>\n",
              "      <td>0</td>\n",
              "      <td>operational</td>\n",
              "      <td>Paris</td>\n",
              "      <td>NaN</td>\n",
              "      <td>paris-raymondlosserand-145</td>\n",
              "      <td>STATION</td>\n",
              "      <td>48.83126, 2.313088</td>\n",
              "      <td>75014</td>\n",
              "      <td>Paris/Raymond Losserand/145</td>\n",
              "      <td>operational</td>\n",
              "      <td>NaN</td>\n",
              "      <td>0</td>\n",
              "      <td>station</td>\n",
              "      <td>ok</td>\n",
              "      <td>nonexistent</td>\n",
              "      <td>2018</td>\n",
              "      <td>4</td>\n",
              "      <td>6</td>\n",
              "      <td>7</td>\n",
              "      <td>24</td>\n",
              "    </tr>\n",
              "    <tr>\n",
              "      <th>2</th>\n",
              "      <td>2 Avenue John Fitzgerald Kennedy</td>\n",
              "      <td>3</td>\n",
              "      <td>3</td>\n",
              "      <td>0</td>\n",
              "      <td>2</td>\n",
              "      <td>0</td>\n",
              "      <td>operational</td>\n",
              "      <td>Le Bourget</td>\n",
              "      <td>NaN</td>\n",
              "      <td>lebourget-johnfitzgeraldkennedy-2</td>\n",
              "      <td>STATION</td>\n",
              "      <td>48.938103, 2.4286035</td>\n",
              "      <td>93350</td>\n",
              "      <td>Le Bourget/John Fitzgerald Kennedy/2</td>\n",
              "      <td>operational</td>\n",
              "      <td>NaN</td>\n",
              "      <td>1</td>\n",
              "      <td>station</td>\n",
              "      <td>ok</td>\n",
              "      <td>nonexistent</td>\n",
              "      <td>2018</td>\n",
              "      <td>4</td>\n",
              "      <td>3</td>\n",
              "      <td>20</td>\n",
              "      <td>14</td>\n",
              "    </tr>\n",
              "    <tr>\n",
              "      <th>3</th>\n",
              "      <td>51 Rue EugÃ¨ne OudinÃ©</td>\n",
              "      <td>3</td>\n",
              "      <td>3</td>\n",
              "      <td>1</td>\n",
              "      <td>0</td>\n",
              "      <td>1</td>\n",
              "      <td>operational</td>\n",
              "      <td>Paris</td>\n",
              "      <td>NaN</td>\n",
              "      <td>paris-eugeneoudine-51</td>\n",
              "      <td>STATION</td>\n",
              "      <td>48.8250327, 2.3725162</td>\n",
              "      <td>75013</td>\n",
              "      <td>Paris/EugÃ¨ne OudinÃ©/51</td>\n",
              "      <td>operational</td>\n",
              "      <td>NaN</td>\n",
              "      <td>2</td>\n",
              "      <td>station</td>\n",
              "      <td>ok</td>\n",
              "      <td>nonexistent</td>\n",
              "      <td>2018</td>\n",
              "      <td>4</td>\n",
              "      <td>4</td>\n",
              "      <td>4</td>\n",
              "      <td>37</td>\n",
              "    </tr>\n",
              "    <tr>\n",
              "      <th>4</th>\n",
              "      <td>6 avenue de la Porte de Champerret</td>\n",
              "      <td>3</td>\n",
              "      <td>3</td>\n",
              "      <td>0</td>\n",
              "      <td>0</td>\n",
              "      <td>0</td>\n",
              "      <td>nonexistent</td>\n",
              "      <td>Paris</td>\n",
              "      <td>NaN</td>\n",
              "      <td>paris-portedechamperret-6</td>\n",
              "      <td>PARKING</td>\n",
              "      <td>48.8862632, 2.2874511</td>\n",
              "      <td>75017</td>\n",
              "      <td>Paris/Porte de Champerret/6</td>\n",
              "      <td>operational</td>\n",
              "      <td>NaN</td>\n",
              "      <td>3</td>\n",
              "      <td>station</td>\n",
              "      <td>ok</td>\n",
              "      <td>nonexistent</td>\n",
              "      <td>2018</td>\n",
              "      <td>4</td>\n",
              "      <td>8</td>\n",
              "      <td>17</td>\n",
              "      <td>23</td>\n",
              "    </tr>\n",
              "  </tbody>\n",
              "</table>\n",
              "</div>"
            ],
            "text/plain": [
              "                              Address  Cars  Bluecar counter  ...  day  hour  minute\n",
              "0                 2 Avenue de Suffren     0                0  ...    8    11      43\n",
              "1           145 Rue Raymond Losserand     6                6  ...    6     7      24\n",
              "2    2 Avenue John Fitzgerald Kennedy     3                3  ...    3    20      14\n",
              "3              51 Rue EugÃ¨ne OudinÃ©     3                3  ...    4     4      37\n",
              "4  6 avenue de la Porte de Champerret     3                3  ...    8    17      23\n",
              "\n",
              "[5 rows x 25 columns]"
            ]
          },
          "metadata": {
            "tags": []
          },
          "execution_count": 88
        }
      ]
    },
    {
      "cell_type": "code",
      "metadata": {
        "id": "pnUcDbV0LR7q",
        "colab_type": "code",
        "colab": {
          "base_uri": "https://localhost:8080/",
          "height": 599
        },
        "outputId": "cbe985b2-bb9d-47a8-912e-df8ba45b8d56"
      },
      "source": [
        "#accessing info about the data set\n",
        "autolib.info()"
      ],
      "execution_count": null,
      "outputs": [
        {
          "output_type": "stream",
          "text": [
            "<class 'pandas.core.frame.DataFrame'>\n",
            "RangeIndex: 5000 entries, 0 to 4999\n",
            "Data columns (total 25 columns):\n",
            " #   Column               Non-Null Count  Dtype \n",
            "---  ------               --------------  ----- \n",
            " 0   Address              5000 non-null   object\n",
            " 1   Cars                 5000 non-null   int64 \n",
            " 2   Bluecar counter      5000 non-null   int64 \n",
            " 3   Utilib counter       5000 non-null   int64 \n",
            " 4   Utilib 1.4 counter   5000 non-null   int64 \n",
            " 5   Charge Slots         5000 non-null   int64 \n",
            " 6   Charging Status      5000 non-null   object\n",
            " 7   City                 5000 non-null   object\n",
            " 8   Displayed comment    111 non-null    object\n",
            " 9   ID                   5000 non-null   object\n",
            " 10  Kind                 5000 non-null   object\n",
            " 11  Geo point            5000 non-null   object\n",
            " 12  Postal code          5000 non-null   int64 \n",
            " 13  Public name          5000 non-null   object\n",
            " 14  Rental status        5000 non-null   object\n",
            " 15  Scheduled at         47 non-null     object\n",
            " 16  Slots                5000 non-null   int64 \n",
            " 17  Station type         5000 non-null   object\n",
            " 18  Status               5000 non-null   object\n",
            " 19  Subscription status  5000 non-null   object\n",
            " 20  year                 5000 non-null   int64 \n",
            " 21  month                5000 non-null   int64 \n",
            " 22  day                  5000 non-null   int64 \n",
            " 23  hour                 5000 non-null   int64 \n",
            " 24  minute               5000 non-null   int64 \n",
            "dtypes: int64(12), object(13)\n",
            "memory usage: 976.7+ KB\n"
          ],
          "name": "stdout"
        }
      ]
    },
    {
      "cell_type": "markdown",
      "metadata": {
        "id": "NZpYwMu0JJHp",
        "colab_type": "text"
      },
      "source": [
        "# Cleaning the data"
      ]
    },
    {
      "cell_type": "code",
      "metadata": {
        "id": "8P-zUbluLKqT",
        "colab_type": "code",
        "colab": {}
      },
      "source": [
        "# Procedure 1: Irrelevant Data Observation\n",
        "# Data Cleaning Action: Dropping several columns\n",
        "# Explanation: We won't need them during Analysis. No question to be answered requires those column.\n",
        "#\n",
        "dropped = autolib.drop(['Charging Status','Charge Slots', 'Displayed comment','ID', 'Kind', 'Geo point','Rental status', 'Scheduled at', 'Slots', 'Station type', 'Status', 'Subscription status', 'year', 'month', 'minute'], axis=1)"
      ],
      "execution_count": null,
      "outputs": []
    },
    {
      "cell_type": "code",
      "metadata": {
        "id": "EKmot_O8nDHv",
        "colab_type": "code",
        "colab": {}
      },
      "source": [
        "# Procedure 2:\n",
        "# Data Cleaning Action:syntax error\n",
        "# Explanation:remove white space at the beginning or end of string\n",
        "#\n",
        "df = dropped.rename(columns=lambda x: x.strip())"
      ],
      "execution_count": null,
      "outputs": []
    },
    {
      "cell_type": "code",
      "metadata": {
        "id": "6A0XTDZNn-kj",
        "colab_type": "code",
        "colab": {
          "base_uri": "https://localhost:8080/",
          "height": 204
        },
        "outputId": "0c002a84-18a1-4393-b45e-e1bd097235f3"
      },
      "source": [
        "#Procedure 3:\n",
        "# Data Cleaning Action:checking/counting missing values\n",
        "# Explanation:checking if there's any missing value in the data frame\n",
        "#\n",
        "df.isnull().any()"
      ],
      "execution_count": null,
      "outputs": [
        {
          "output_type": "execute_result",
          "data": {
            "text/plain": [
              "Address               False\n",
              "Cars                  False\n",
              "Bluecar counter       False\n",
              "Utilib counter        False\n",
              "Utilib 1.4 counter    False\n",
              "City                  False\n",
              "Postal code           False\n",
              "Public name           False\n",
              "day                   False\n",
              "hour                  False\n",
              "dtype: bool"
            ]
          },
          "metadata": {
            "tags": []
          },
          "execution_count": 156
        }
      ]
    },
    {
      "cell_type": "code",
      "metadata": {
        "id": "v15sZd7IoJlG",
        "colab_type": "code",
        "colab": {
          "base_uri": "https://localhost:8080/",
          "height": 255
        },
        "outputId": "dfe1fe82-99cb-4175-ef61-5c170069d302"
      },
      "source": [
        "# Procedure 4: Duplicates\n",
        "# Data Cleaning Action: Removing duplicate values\n",
        "# Explanation: Removing duplicate rows from the data set\n",
        "#\n",
        "df_non_duplicates = df.drop_duplicates()\n",
        "print(df_non_duplicates)\n"
      ],
      "execution_count": null,
      "outputs": [
        {
          "output_type": "stream",
          "text": [
            "                                 Address  Cars  ...  day  hour\n",
            "0                    2 Avenue de Suffren     0  ...    8    11\n",
            "1              145 Rue Raymond Losserand     6  ...    6     7\n",
            "2       2 Avenue John Fitzgerald Kennedy     3  ...    3    20\n",
            "3                 51 Rue EugÃ¨ne OudinÃ©     3  ...    4     4\n",
            "4     6 avenue de la Porte de Champerret     3  ...    8    17\n",
            "...                                  ...   ...  ...  ...   ...\n",
            "4995                 8 avenue MÃ©nelotte     2  ...    6    11\n",
            "4996                   37 rue de Dantzig     4  ...    4    16\n",
            "4997                      142 rue du Bac     1  ...    1     7\n",
            "4998         2 avenue du Val de Fontenay     2  ...    4    17\n",
            "4999                 5 Rue Henry Brisson     4  ...    8    10\n",
            "\n",
            "[4968 rows x 10 columns]\n"
          ],
          "name": "stdout"
        }
      ]
    },
    {
      "cell_type": "code",
      "metadata": {
        "id": "iXMUS7ySpP4s",
        "colab_type": "code",
        "colab": {}
      },
      "source": [
        "#Procedure 5: \n",
        "# Data Cleaning Action:re_naming column names\n",
        "# Explanation:giving the data set a new name to work with since the cleaning is done\n",
        "#\n",
        "df_non_duplicates.columns = ['Address', 'Cars', 'Bluecar', 'Utilib', 'Utilib_1.4', 'City', 'Postal_code', 'Name', 'day', 'hour']\n"
      ],
      "execution_count": null,
      "outputs": []
    },
    {
      "cell_type": "code",
      "metadata": {
        "id": "kThW025tuTvx",
        "colab_type": "code",
        "colab": {
          "base_uri": "https://localhost:8080/",
          "height": 306
        },
        "outputId": "8bf7aaeb-f372-428e-98a9-0c1ec64e5098"
      },
      "source": [
        "#Procedure 6: \n",
        "# Data Cleaning Action:none\n",
        "# Explanation:the data types are ok\n",
        "#\n",
        "df_non_duplicates.info()"
      ],
      "execution_count": null,
      "outputs": [
        {
          "output_type": "stream",
          "text": [
            "<class 'pandas.core.frame.DataFrame'>\n",
            "Int64Index: 4968 entries, 0 to 4999\n",
            "Data columns (total 10 columns):\n",
            " #   Column       Non-Null Count  Dtype \n",
            "---  ------       --------------  ----- \n",
            " 0   Address      4968 non-null   object\n",
            " 1   Cars         4968 non-null   int64 \n",
            " 2   Bluecar      4968 non-null   int64 \n",
            " 3   Utilib       4968 non-null   int64 \n",
            " 4   Utilib_1.4   4968 non-null   int64 \n",
            " 5   City         4968 non-null   object\n",
            " 6   Postal_code  4968 non-null   int64 \n",
            " 7   Name         4968 non-null   object\n",
            " 8   day          4968 non-null   int64 \n",
            " 9   hour         4968 non-null   int64 \n",
            "dtypes: int64(7), object(3)\n",
            "memory usage: 426.9+ KB\n"
          ],
          "name": "stdout"
        }
      ]
    },
    {
      "cell_type": "markdown",
      "metadata": {
        "id": "1x14f2od9CcE",
        "colab_type": "text"
      },
      "source": [
        "Before begining data analysis, I will export my data into a new csv file"
      ]
    },
    {
      "cell_type": "code",
      "metadata": {
        "id": "0zXfcHuC9zkB",
        "colab_type": "code",
        "colab": {}
      },
      "source": [
        "df_non_duplicates.to_csv('cleaned_Autolib.csv', index = False)"
      ],
      "execution_count": null,
      "outputs": []
    },
    {
      "cell_type": "markdown",
      "metadata": {
        "id": "NTRUkSCAJMcE",
        "colab_type": "text"
      },
      "source": [
        "# Data analysis"
      ]
    },
    {
      "cell_type": "markdown",
      "metadata": {
        "id": "GpsXP-2--rut",
        "colab_type": "text"
      },
      "source": [
        "To begin my analysis I will load and preview the new data set\n"
      ]
    },
    {
      "cell_type": "code",
      "metadata": {
        "id": "4qkSbnlF-1Xe",
        "colab_type": "code",
        "colab": {
          "base_uri": "https://localhost:8080/",
          "height": 255
        },
        "outputId": "f9b04e36-d2d2-4191-9e8c-6ad4c75bb89e"
      },
      "source": [
        "link = 'cleaned_Autolib.csv'\n",
        "auto = pd.read_csv(link)\n",
        "auto[:5]"
      ],
      "execution_count": null,
      "outputs": [
        {
          "output_type": "execute_result",
          "data": {
            "text/html": [
              "<div>\n",
              "<style scoped>\n",
              "    .dataframe tbody tr th:only-of-type {\n",
              "        vertical-align: middle;\n",
              "    }\n",
              "\n",
              "    .dataframe tbody tr th {\n",
              "        vertical-align: top;\n",
              "    }\n",
              "\n",
              "    .dataframe thead th {\n",
              "        text-align: right;\n",
              "    }\n",
              "</style>\n",
              "<table border=\"1\" class=\"dataframe\">\n",
              "  <thead>\n",
              "    <tr style=\"text-align: right;\">\n",
              "      <th></th>\n",
              "      <th>Address</th>\n",
              "      <th>Cars</th>\n",
              "      <th>Bluecar</th>\n",
              "      <th>Utilib</th>\n",
              "      <th>Utilib_1.4</th>\n",
              "      <th>City</th>\n",
              "      <th>Postal_code</th>\n",
              "      <th>Name</th>\n",
              "      <th>day</th>\n",
              "      <th>hour</th>\n",
              "    </tr>\n",
              "  </thead>\n",
              "  <tbody>\n",
              "    <tr>\n",
              "      <th>0</th>\n",
              "      <td>2 Avenue de Suffren</td>\n",
              "      <td>0</td>\n",
              "      <td>0</td>\n",
              "      <td>0</td>\n",
              "      <td>0</td>\n",
              "      <td>Paris</td>\n",
              "      <td>75015</td>\n",
              "      <td>Paris/Suffren/2</td>\n",
              "      <td>8</td>\n",
              "      <td>11</td>\n",
              "    </tr>\n",
              "    <tr>\n",
              "      <th>1</th>\n",
              "      <td>145 Rue Raymond Losserand</td>\n",
              "      <td>6</td>\n",
              "      <td>6</td>\n",
              "      <td>0</td>\n",
              "      <td>0</td>\n",
              "      <td>Paris</td>\n",
              "      <td>75014</td>\n",
              "      <td>Paris/Raymond Losserand/145</td>\n",
              "      <td>6</td>\n",
              "      <td>7</td>\n",
              "    </tr>\n",
              "    <tr>\n",
              "      <th>2</th>\n",
              "      <td>2 Avenue John Fitzgerald Kennedy</td>\n",
              "      <td>3</td>\n",
              "      <td>3</td>\n",
              "      <td>0</td>\n",
              "      <td>2</td>\n",
              "      <td>Le Bourget</td>\n",
              "      <td>93350</td>\n",
              "      <td>Le Bourget/John Fitzgerald Kennedy/2</td>\n",
              "      <td>3</td>\n",
              "      <td>20</td>\n",
              "    </tr>\n",
              "    <tr>\n",
              "      <th>3</th>\n",
              "      <td>51 Rue EugÃ¨ne OudinÃ©</td>\n",
              "      <td>3</td>\n",
              "      <td>3</td>\n",
              "      <td>1</td>\n",
              "      <td>0</td>\n",
              "      <td>Paris</td>\n",
              "      <td>75013</td>\n",
              "      <td>Paris/EugÃ¨ne OudinÃ©/51</td>\n",
              "      <td>4</td>\n",
              "      <td>4</td>\n",
              "    </tr>\n",
              "    <tr>\n",
              "      <th>4</th>\n",
              "      <td>6 avenue de la Porte de Champerret</td>\n",
              "      <td>3</td>\n",
              "      <td>3</td>\n",
              "      <td>0</td>\n",
              "      <td>0</td>\n",
              "      <td>Paris</td>\n",
              "      <td>75017</td>\n",
              "      <td>Paris/Porte de Champerret/6</td>\n",
              "      <td>8</td>\n",
              "      <td>17</td>\n",
              "    </tr>\n",
              "  </tbody>\n",
              "</table>\n",
              "</div>"
            ],
            "text/plain": [
              "                              Address  Cars  ...  day  hour\n",
              "0                 2 Avenue de Suffren     0  ...    8    11\n",
              "1           145 Rue Raymond Losserand     6  ...    6     7\n",
              "2    2 Avenue John Fitzgerald Kennedy     3  ...    3    20\n",
              "3              51 Rue EugÃ¨ne OudinÃ©     3  ...    4     4\n",
              "4  6 avenue de la Porte de Champerret     3  ...    8    17\n",
              "\n",
              "[5 rows x 10 columns]"
            ]
          },
          "metadata": {
            "tags": []
          },
          "execution_count": 164
        }
      ]
    },
    {
      "cell_type": "code",
      "metadata": {
        "id": "shmgvTlzjDdG",
        "colab_type": "code",
        "colab": {
          "base_uri": "https://localhost:8080/",
          "height": 238
        },
        "outputId": "7b29c485-e755-4606-8de4-0688bc51d18e"
      },
      "source": [
        "sorted = auto.sort_values(by=['day', 'hour'])\n",
        "sorted[:5]"
      ],
      "execution_count": null,
      "outputs": [
        {
          "output_type": "execute_result",
          "data": {
            "text/html": [
              "<div>\n",
              "<style scoped>\n",
              "    .dataframe tbody tr th:only-of-type {\n",
              "        vertical-align: middle;\n",
              "    }\n",
              "\n",
              "    .dataframe tbody tr th {\n",
              "        vertical-align: top;\n",
              "    }\n",
              "\n",
              "    .dataframe thead th {\n",
              "        text-align: right;\n",
              "    }\n",
              "</style>\n",
              "<table border=\"1\" class=\"dataframe\">\n",
              "  <thead>\n",
              "    <tr style=\"text-align: right;\">\n",
              "      <th></th>\n",
              "      <th>Address</th>\n",
              "      <th>Cars</th>\n",
              "      <th>Bluecar</th>\n",
              "      <th>Utilib</th>\n",
              "      <th>Utilib_1.4</th>\n",
              "      <th>City</th>\n",
              "      <th>Postal_code</th>\n",
              "      <th>Name</th>\n",
              "      <th>day</th>\n",
              "      <th>hour</th>\n",
              "    </tr>\n",
              "  </thead>\n",
              "  <tbody>\n",
              "    <tr>\n",
              "      <th>123</th>\n",
              "      <td>35 rue Mathis</td>\n",
              "      <td>0</td>\n",
              "      <td>0</td>\n",
              "      <td>0</td>\n",
              "      <td>0</td>\n",
              "      <td>Paris</td>\n",
              "      <td>75019</td>\n",
              "      <td>Paris/Mathis/35</td>\n",
              "      <td>1</td>\n",
              "      <td>0</td>\n",
              "    </tr>\n",
              "    <tr>\n",
              "      <th>459</th>\n",
              "      <td>170 boulevard Pereire</td>\n",
              "      <td>3</td>\n",
              "      <td>3</td>\n",
              "      <td>0</td>\n",
              "      <td>0</td>\n",
              "      <td>Paris</td>\n",
              "      <td>75017</td>\n",
              "      <td>Paris/Pereire/170</td>\n",
              "      <td>1</td>\n",
              "      <td>0</td>\n",
              "    </tr>\n",
              "    <tr>\n",
              "      <th>584</th>\n",
              "      <td>1 rue de l'Avenir</td>\n",
              "      <td>7</td>\n",
              "      <td>7</td>\n",
              "      <td>0</td>\n",
              "      <td>0</td>\n",
              "      <td>Ãpinay-sur-Seine</td>\n",
              "      <td>93800</td>\n",
              "      <td>Ãpinay-sur-Seine/Avenir/1</td>\n",
              "      <td>1</td>\n",
              "      <td>0</td>\n",
              "    </tr>\n",
              "    <tr>\n",
              "      <th>977</th>\n",
              "      <td>2 Rue Fabre d'Ãglantine</td>\n",
              "      <td>2</td>\n",
              "      <td>2</td>\n",
              "      <td>0</td>\n",
              "      <td>0</td>\n",
              "      <td>Paris</td>\n",
              "      <td>75012</td>\n",
              "      <td>Paris/Fabre d'Ãglantine/2</td>\n",
              "      <td>1</td>\n",
              "      <td>0</td>\n",
              "    </tr>\n",
              "    <tr>\n",
              "      <th>1024</th>\n",
              "      <td>12 Avenue de Messine</td>\n",
              "      <td>4</td>\n",
              "      <td>4</td>\n",
              "      <td>0</td>\n",
              "      <td>0</td>\n",
              "      <td>Paris</td>\n",
              "      <td>75008</td>\n",
              "      <td>Paris/Messine/12</td>\n",
              "      <td>1</td>\n",
              "      <td>0</td>\n",
              "    </tr>\n",
              "  </tbody>\n",
              "</table>\n",
              "</div>"
            ],
            "text/plain": [
              "                       Address  Cars  ...  day  hour\n",
              "123              35 rue Mathis     0  ...    1     0\n",
              "459      170 boulevard Pereire     3  ...    1     0\n",
              "584          1 rue de l'Avenir     7  ...    1     0\n",
              "977   2 Rue Fabre d'Ãglantine     2  ...    1     0\n",
              "1024      12 Avenue de Messine     4  ...    1     0\n",
              "\n",
              "[5 rows x 10 columns]"
            ]
          },
          "metadata": {
            "tags": []
          },
          "execution_count": 170
        }
      ]
    },
    {
      "cell_type": "markdown",
      "metadata": {
        "id": "sGU3kSifFsml",
        "colab_type": "text"
      },
      "source": [
        "RESEARCH QUESTION: Identify the most popular hour of the day for picking up a shared electric car (Bluecar) in the city of Paris over the month of April 2018."
      ]
    },
    {
      "cell_type": "markdown",
      "metadata": {
        "id": "iQJqEZ0NJCpZ",
        "colab_type": "text"
      },
      "source": [
        "First I will  get the difference of the cars, bluecar, utilib and utilib 1.4 in a station, over time and store that in a new column.\n",
        "With this  I can actually find out whether the car was picked, dropped or nothing happened\n",
        "\n",
        "Negative values - pick_ups\n",
        "\n",
        "Positive - drop_offs \n",
        "\n",
        "zero -  nothing happened\n",
        "\n",
        "I can then drop the orgininal columns for cars, bluecar, utilib and utilib 1.4 as they won't be needed anymore in tmy analysis."
      ]
    },
    {
      "cell_type": "code",
      "metadata": {
        "id": "lIiPLh2Za9J0",
        "colab_type": "code",
        "colab": {
          "base_uri": "https://localhost:8080/",
          "height": 343
        },
        "outputId": "82d7c0e9-58c2-4d67-a09f-e516c61fc099"
      },
      "source": [
        "sorted['blue_use'] = sorted['Bluecar'].diff()\n",
        "sorted['utilib_use'] = sorted['Utilib'].diff()\n",
        "sorted['Utilib1_use'] = sorted['Utilib_1.4'].diff()\n",
        "sorted['car_use'] = sorted['Cars'].diff()\n",
        "sorted[:5]"
      ],
      "execution_count": null,
      "outputs": [
        {
          "output_type": "execute_result",
          "data": {
            "text/html": [
              "<div>\n",
              "<style scoped>\n",
              "    .dataframe tbody tr th:only-of-type {\n",
              "        vertical-align: middle;\n",
              "    }\n",
              "\n",
              "    .dataframe tbody tr th {\n",
              "        vertical-align: top;\n",
              "    }\n",
              "\n",
              "    .dataframe thead th {\n",
              "        text-align: right;\n",
              "    }\n",
              "</style>\n",
              "<table border=\"1\" class=\"dataframe\">\n",
              "  <thead>\n",
              "    <tr style=\"text-align: right;\">\n",
              "      <th></th>\n",
              "      <th>Address</th>\n",
              "      <th>Cars</th>\n",
              "      <th>Bluecar</th>\n",
              "      <th>Utilib</th>\n",
              "      <th>Utilib_1.4</th>\n",
              "      <th>City</th>\n",
              "      <th>Postal_code</th>\n",
              "      <th>Name</th>\n",
              "      <th>day</th>\n",
              "      <th>hour</th>\n",
              "      <th>blue_use</th>\n",
              "      <th>utilib_use</th>\n",
              "      <th>Utilib1_use</th>\n",
              "      <th>car_use</th>\n",
              "    </tr>\n",
              "  </thead>\n",
              "  <tbody>\n",
              "    <tr>\n",
              "      <th>123</th>\n",
              "      <td>35 rue Mathis</td>\n",
              "      <td>0</td>\n",
              "      <td>0</td>\n",
              "      <td>0</td>\n",
              "      <td>0</td>\n",
              "      <td>Paris</td>\n",
              "      <td>75019</td>\n",
              "      <td>Paris/Mathis/35</td>\n",
              "      <td>1</td>\n",
              "      <td>0</td>\n",
              "      <td>NaN</td>\n",
              "      <td>NaN</td>\n",
              "      <td>NaN</td>\n",
              "      <td>NaN</td>\n",
              "    </tr>\n",
              "    <tr>\n",
              "      <th>459</th>\n",
              "      <td>170 boulevard Pereire</td>\n",
              "      <td>3</td>\n",
              "      <td>3</td>\n",
              "      <td>0</td>\n",
              "      <td>0</td>\n",
              "      <td>Paris</td>\n",
              "      <td>75017</td>\n",
              "      <td>Paris/Pereire/170</td>\n",
              "      <td>1</td>\n",
              "      <td>0</td>\n",
              "      <td>3.0</td>\n",
              "      <td>0.0</td>\n",
              "      <td>0.0</td>\n",
              "      <td>3.0</td>\n",
              "    </tr>\n",
              "    <tr>\n",
              "      <th>584</th>\n",
              "      <td>1 rue de l'Avenir</td>\n",
              "      <td>7</td>\n",
              "      <td>7</td>\n",
              "      <td>0</td>\n",
              "      <td>0</td>\n",
              "      <td>Ãpinay-sur-Seine</td>\n",
              "      <td>93800</td>\n",
              "      <td>Ãpinay-sur-Seine/Avenir/1</td>\n",
              "      <td>1</td>\n",
              "      <td>0</td>\n",
              "      <td>4.0</td>\n",
              "      <td>0.0</td>\n",
              "      <td>0.0</td>\n",
              "      <td>4.0</td>\n",
              "    </tr>\n",
              "    <tr>\n",
              "      <th>977</th>\n",
              "      <td>2 Rue Fabre d'Ãglantine</td>\n",
              "      <td>2</td>\n",
              "      <td>2</td>\n",
              "      <td>0</td>\n",
              "      <td>0</td>\n",
              "      <td>Paris</td>\n",
              "      <td>75012</td>\n",
              "      <td>Paris/Fabre d'Ãglantine/2</td>\n",
              "      <td>1</td>\n",
              "      <td>0</td>\n",
              "      <td>-5.0</td>\n",
              "      <td>0.0</td>\n",
              "      <td>0.0</td>\n",
              "      <td>-5.0</td>\n",
              "    </tr>\n",
              "    <tr>\n",
              "      <th>1024</th>\n",
              "      <td>12 Avenue de Messine</td>\n",
              "      <td>4</td>\n",
              "      <td>4</td>\n",
              "      <td>0</td>\n",
              "      <td>0</td>\n",
              "      <td>Paris</td>\n",
              "      <td>75008</td>\n",
              "      <td>Paris/Messine/12</td>\n",
              "      <td>1</td>\n",
              "      <td>0</td>\n",
              "      <td>2.0</td>\n",
              "      <td>0.0</td>\n",
              "      <td>0.0</td>\n",
              "      <td>2.0</td>\n",
              "    </tr>\n",
              "  </tbody>\n",
              "</table>\n",
              "</div>"
            ],
            "text/plain": [
              "                       Address  Cars  Bluecar  ...  utilib_use  Utilib1_use car_use\n",
              "123              35 rue Mathis     0        0  ...         NaN          NaN     NaN\n",
              "459      170 boulevard Pereire     3        3  ...         0.0          0.0     3.0\n",
              "584          1 rue de l'Avenir     7        7  ...         0.0          0.0     4.0\n",
              "977   2 Rue Fabre d'Ãglantine     2        2  ...         0.0          0.0    -5.0\n",
              "1024      12 Avenue de Messine     4        4  ...         0.0          0.0     2.0\n",
              "\n",
              "[5 rows x 14 columns]"
            ]
          },
          "metadata": {
            "tags": []
          },
          "execution_count": 176
        }
      ]
    },
    {
      "cell_type": "markdown",
      "metadata": {
        "id": "ttyNv9cMKKCk",
        "colab_type": "text"
      },
      "source": [
        "1. What was the most popular hour for returning "
      ]
    },
    {
      "cell_type": "markdown",
      "metadata": {
        "id": "XCUZK1PBKypp",
        "colab_type": "text"
      },
      "source": [
        "Here we are looking for the hour with the most positive value"
      ]
    },
    {
      "cell_type": "code",
      "metadata": {
        "id": "Qj0p7rZpI-Lu",
        "colab_type": "code",
        "colab": {
          "base_uri": "https://localhost:8080/",
          "height": 68
        },
        "outputId": "4f123d08-8fbd-4ba7-ccbf-6ea9de728943"
      },
      "source": [
        "pop_return_hour = sorted[(sorted.car_use>0)].groupby('hour')['hour'].count().sort_values(ascending = False)[:1]\n",
        "pop_return_hour"
      ],
      "execution_count": null,
      "outputs": [
        {
          "output_type": "execute_result",
          "data": {
            "text/plain": [
              "hour\n",
              "7    95\n",
              "Name: hour, dtype: int64"
            ]
          },
          "metadata": {
            "tags": []
          },
          "execution_count": 180
        }
      ]
    },
    {
      "cell_type": "markdown",
      "metadata": {
        "id": "XTR-ZIiLTuHr",
        "colab_type": "text"
      },
      "source": [
        "2. What station is the most popular?\n",
        "\n",
        "a) Overall?"
      ]
    },
    {
      "cell_type": "code",
      "metadata": {
        "id": "MlD84DszU0O2",
        "colab_type": "code",
        "colab": {
          "base_uri": "https://localhost:8080/",
          "height": 68
        },
        "outputId": "bb43e941-739a-4bdc-a062-6b6662a81e65"
      },
      "source": [
        "pop_station = sorted.groupby('Name')['Name'].count().sort_values(ascending = False)[:1]\n",
        "pop_station"
      ],
      "execution_count": null,
      "outputs": [
        {
          "output_type": "execute_result",
          "data": {
            "text/plain": [
              "Name\n",
              "Paris/Porte de Montrouge/8    13\n",
              "Name: Name, dtype: int64"
            ]
          },
          "metadata": {
            "tags": []
          },
          "execution_count": 181
        }
      ]
    },
    {
      "cell_type": "markdown",
      "metadata": {
        "id": "p6FIxdPtVmcO",
        "colab_type": "text"
      },
      "source": [
        "b) At the most popular picking hour?"
      ]
    },
    {
      "cell_type": "code",
      "metadata": {
        "id": "ZuT0PQntjgIs",
        "colab_type": "code",
        "colab": {
          "base_uri": "https://localhost:8080/",
          "height": 68
        },
        "outputId": "13fe03ee-5e2c-461c-f5b6-239a3fd08b00"
      },
      "source": [
        "#First I will find what the most popular picking hour is:\n",
        "pop_pick_hour = sorted[(sorted.car_use<0)].groupby('hour')['hour'].count().sort_values(ascending = False)[:1]\n",
        "pop_pick_hour"
      ],
      "execution_count": null,
      "outputs": [
        {
          "output_type": "execute_result",
          "data": {
            "text/plain": [
              "hour\n",
              "9    101\n",
              "Name: hour, dtype: int64"
            ]
          },
          "metadata": {
            "tags": []
          },
          "execution_count": 182
        }
      ]
    },
    {
      "cell_type": "code",
      "metadata": {
        "id": "wrINJjtrVo27",
        "colab_type": "code",
        "colab": {
          "base_uri": "https://localhost:8080/",
          "height": 68
        },
        "outputId": "8a0019a3-08ad-4395-8aeb-b78aaa512820"
      },
      "source": [
        "#Then find the most popular station at that hour\n",
        "station_at_pop_hour  = sorted[(sorted.hour == 9) & (sorted.car_use<0)].groupby('Name')['Name'].count().sort_values(ascending = False)[:1]\n",
        "station_at_pop_hour"
      ],
      "execution_count": null,
      "outputs": [
        {
          "output_type": "execute_result",
          "data": {
            "text/plain": [
              "Name\n",
              "Paris/Picpus/7    2\n",
              "Name: Name, dtype: int64"
            ]
          },
          "metadata": {
            "tags": []
          },
          "execution_count": 183
        }
      ]
    },
    {
      "cell_type": "markdown",
      "metadata": {
        "id": "XLhOq2W8W45C",
        "colab_type": "text"
      },
      "source": [
        "3.What postal code is the most popular for picking up Blue cars? \n",
        "\n",
        "a) Overall?"
      ]
    },
    {
      "cell_type": "code",
      "metadata": {
        "id": "9HUFBpE0XKTf",
        "colab_type": "code",
        "colab": {
          "base_uri": "https://localhost:8080/",
          "height": 68
        },
        "outputId": "3b1af161-a4a1-4540-f174-29502d7e073f"
      },
      "source": [
        "pop_box_blue = sorted[(sorted.blue_use<0)].groupby('Postal_code')['blue_use'].count().sort_values(ascending = False)[:1]\n",
        "pop_box_blue"
      ],
      "execution_count": null,
      "outputs": [
        {
          "output_type": "execute_result",
          "data": {
            "text/plain": [
              "Postal_code\n",
              "75015    122\n",
              "Name: blue_use, dtype: int64"
            ]
          },
          "metadata": {
            "tags": []
          },
          "execution_count": 184
        }
      ]
    },
    {
      "cell_type": "markdown",
      "metadata": {
        "id": "xOCikF5VZZ3p",
        "colab_type": "text"
      },
      "source": [
        "i) Checking whether the most popular station belongs to that postal code"
      ]
    },
    {
      "cell_type": "code",
      "metadata": {
        "id": "NFX1omQkZYzC",
        "colab_type": "code",
        "colab": {
          "base_uri": "https://localhost:8080/",
          "height": 151
        },
        "outputId": "0fe7d31b-2694-428a-dbca-809c70c967ba"
      },
      "source": [
        "sorted[sorted['Name'].map(lambda Name: 'Paris/Porte de Montrouge/8' in Name)][:1]"
      ],
      "execution_count": null,
      "outputs": [
        {
          "output_type": "execute_result",
          "data": {
            "text/html": [
              "<div>\n",
              "<style scoped>\n",
              "    .dataframe tbody tr th:only-of-type {\n",
              "        vertical-align: middle;\n",
              "    }\n",
              "\n",
              "    .dataframe tbody tr th {\n",
              "        vertical-align: top;\n",
              "    }\n",
              "\n",
              "    .dataframe thead th {\n",
              "        text-align: right;\n",
              "    }\n",
              "</style>\n",
              "<table border=\"1\" class=\"dataframe\">\n",
              "  <thead>\n",
              "    <tr style=\"text-align: right;\">\n",
              "      <th></th>\n",
              "      <th>Address</th>\n",
              "      <th>Cars</th>\n",
              "      <th>Bluecar</th>\n",
              "      <th>Utilib</th>\n",
              "      <th>Utilib_1.4</th>\n",
              "      <th>City</th>\n",
              "      <th>Postal_code</th>\n",
              "      <th>Name</th>\n",
              "      <th>day</th>\n",
              "      <th>hour</th>\n",
              "      <th>blue_use</th>\n",
              "      <th>utilib_use</th>\n",
              "      <th>Utilib1_use</th>\n",
              "      <th>car_use</th>\n",
              "    </tr>\n",
              "  </thead>\n",
              "  <tbody>\n",
              "    <tr>\n",
              "      <th>2109</th>\n",
              "      <td>8 Avenue de la Porte de Montrouge</td>\n",
              "      <td>5</td>\n",
              "      <td>5</td>\n",
              "      <td>0</td>\n",
              "      <td>0</td>\n",
              "      <td>Paris</td>\n",
              "      <td>75014</td>\n",
              "      <td>Paris/Porte de Montrouge/8</td>\n",
              "      <td>1</td>\n",
              "      <td>11</td>\n",
              "      <td>-1.0</td>\n",
              "      <td>0.0</td>\n",
              "      <td>0.0</td>\n",
              "      <td>-1.0</td>\n",
              "    </tr>\n",
              "  </tbody>\n",
              "</table>\n",
              "</div>"
            ],
            "text/plain": [
              "                                Address  Cars  ...  Utilib1_use  car_use\n",
              "2109  8 Avenue de la Porte de Montrouge     5  ...          0.0     -1.0\n",
              "\n",
              "[1 rows x 14 columns]"
            ]
          },
          "metadata": {
            "tags": []
          },
          "execution_count": 187
        }
      ]
    },
    {
      "cell_type": "markdown",
      "metadata": {
        "id": "_eKcaYMZmBS4",
        "colab_type": "text"
      },
      "source": [
        "=The most popular station does not belong to that Postal code"
      ]
    },
    {
      "cell_type": "markdown",
      "metadata": {
        "id": "IgS2u4bjXK2n",
        "colab_type": "text"
      },
      "source": [
        "b) At the most popular picking hour?"
      ]
    },
    {
      "cell_type": "code",
      "metadata": {
        "id": "AAt0Ejv5XNkC",
        "colab_type": "code",
        "colab": {
          "base_uri": "https://localhost:8080/",
          "height": 68
        },
        "outputId": "8cda242b-322d-4f40-c6d8-e7c367cbea8e"
      },
      "source": [
        "box_blue_at_pop_hour  = sorted[(sorted.hour == 9) & (sorted.blue_use<0)].groupby('Postal_code')['Postal_code'].count().sort_values(ascending = False)[:1]\n",
        "box_blue_at_pop_hour"
      ],
      "execution_count": null,
      "outputs": [
        {
          "output_type": "execute_result",
          "data": {
            "text/plain": [
              "Postal_code\n",
              "75019    8\n",
              "Name: Postal_code, dtype: int64"
            ]
          },
          "metadata": {
            "tags": []
          },
          "execution_count": 145
        }
      ]
    },
    {
      "cell_type": "markdown",
      "metadata": {
        "id": "cMv-w5cSbBMj",
        "colab_type": "text"
      },
      "source": [
        "b. i) Checking whether the most popular station belongs to that postal code"
      ]
    },
    {
      "cell_type": "markdown",
      "metadata": {
        "id": "j0zHjLi-mxnN",
        "colab_type": "text"
      },
      "source": [
        "==The most popular station does not belong to that Postal code"
      ]
    },
    {
      "cell_type": "markdown",
      "metadata": {
        "id": "DcEaKMsfbYJL",
        "colab_type": "text"
      },
      "source": [
        "CHECKING WHETHER RESULTS CHANGE IF YOU CONSIDER UTILIB AND UTILIB 1.4"
      ]
    },
    {
      "cell_type": "markdown",
      "metadata": {
        "id": "3ze95bDvbZYp",
        "colab_type": "text"
      },
      "source": [
        "4. What postal code is the most popular for picking up Utilib cars? Does the most popular station belong to that postal code?\n",
        "\n",
        "a) Overall?"
      ]
    },
    {
      "cell_type": "code",
      "metadata": {
        "id": "NbShCsSnbk6a",
        "colab_type": "code",
        "colab": {
          "base_uri": "https://localhost:8080/",
          "height": 68
        },
        "outputId": "b5f0a431-bd87-4c67-c7a9-07808a2b7c32"
      },
      "source": [
        "pop_box_utilib = sorted[(sorted.utilib_use<0)].groupby('Postal_code')['Postal_code'].count().sort_values(ascending = False)[:1]\n",
        "pop_box_utilib"
      ],
      "execution_count": null,
      "outputs": [
        {
          "output_type": "execute_result",
          "data": {
            "text/plain": [
              "Postal_code\n",
              "75015    19\n",
              "Name: Postal_code, dtype: int64"
            ]
          },
          "metadata": {
            "tags": []
          },
          "execution_count": 189
        }
      ]
    },
    {
      "cell_type": "markdown",
      "metadata": {
        "id": "lh-gXWErnU_4",
        "colab_type": "text"
      },
      "source": [
        "==The most popular station does not belong to that postal code"
      ]
    },
    {
      "cell_type": "markdown",
      "metadata": {
        "id": "UTZbE-V3b5z5",
        "colab_type": "text"
      },
      "source": [
        "b) At the most popular picking hour?"
      ]
    },
    {
      "cell_type": "code",
      "metadata": {
        "id": "XW1bkBrScBDg",
        "colab_type": "code",
        "colab": {
          "base_uri": "https://localhost:8080/",
          "height": 68
        },
        "outputId": "c3d4c147-e1da-4a6b-cb7d-bd889071c4af"
      },
      "source": [
        "box_utilib_at_pop_hour  = sorted[(sorted.hour == 9) & (sorted.utilib_use<0)].groupby('Postal_code')['utilib_use'].count().sort_values(ascending = False)[:1]\n",
        "box_utilib_at_pop_hour"
      ],
      "execution_count": null,
      "outputs": [
        {
          "output_type": "execute_result",
          "data": {
            "text/plain": [
              "Postal_code\n",
              "93200    1\n",
              "Name: utilib_use, dtype: int64"
            ]
          },
          "metadata": {
            "tags": []
          },
          "execution_count": 192
        }
      ]
    },
    {
      "cell_type": "markdown",
      "metadata": {
        "id": "bmhWyTt7oHo8",
        "colab_type": "text"
      },
      "source": [
        "==The most popular station does not belong to that code"
      ]
    },
    {
      "cell_type": "markdown",
      "metadata": {
        "id": "jnlk-h0Mcj0R",
        "colab_type": "text"
      },
      "source": [
        "5. What postal code is the most popular for picking up Utilib 1.4 cars? \n",
        "\n",
        "a) Overall?"
      ]
    },
    {
      "cell_type": "code",
      "metadata": {
        "id": "TtaTZw1DcgwF",
        "colab_type": "code",
        "colab": {
          "base_uri": "https://localhost:8080/",
          "height": 68
        },
        "outputId": "12be6b4b-8343-44bd-d49f-6b98cce768e4"
      },
      "source": [
        "pop_box_utilib1 = sorted[(sorted.Utilib1_use<0)].groupby('Postal_code')['Utilib1_use'].count().sort_values(ascending = False)[:1]\n",
        "pop_box_utilib1"
      ],
      "execution_count": null,
      "outputs": [
        {
          "output_type": "execute_result",
          "data": {
            "text/plain": [
              "Postal_code\n",
              "75017    27\n",
              "Name: Utilib1_use, dtype: int64"
            ]
          },
          "metadata": {
            "tags": []
          },
          "execution_count": 193
        }
      ]
    },
    {
      "cell_type": "markdown",
      "metadata": {
        "id": "sujiXG0hoXg2",
        "colab_type": "text"
      },
      "source": [
        "==The most popular station does not belong to that code"
      ]
    },
    {
      "cell_type": "markdown",
      "metadata": {
        "id": "G-ityDZ8c8Hj",
        "colab_type": "text"
      },
      "source": [
        "b) At the most popular picking hour?"
      ]
    },
    {
      "cell_type": "code",
      "metadata": {
        "id": "UlE7TgSGc_pV",
        "colab_type": "code",
        "colab": {
          "base_uri": "https://localhost:8080/",
          "height": 68
        },
        "outputId": "3641d464-aaf3-4474-da76-c9732be0d8f0"
      },
      "source": [
        "box_utilib1_at_pop_hour  = sorted[(sorted.hour == 9) & (sorted.Utilib1_use<0)].groupby('Postal_code')['Utilib1_use'].count().sort_values(ascending = False)[:1]\n",
        "box_utilib1_at_pop_hour"
      ],
      "execution_count": null,
      "outputs": [
        {
          "output_type": "execute_result",
          "data": {
            "text/plain": [
              "Postal_code\n",
              "94140    2\n",
              "Name: Utilib1_use, dtype: int64"
            ]
          },
          "metadata": {
            "tags": []
          },
          "execution_count": 195
        }
      ]
    },
    {
      "cell_type": "markdown",
      "metadata": {
        "id": "oGI8r_A9onby",
        "colab_type": "text"
      },
      "source": [
        "==The most popular station still doesn't belong to that Postal code"
      ]
    },
    {
      "cell_type": "markdown",
      "metadata": {
        "id": "ZYlmw2UmM4sD",
        "colab_type": "text"
      },
      "source": [
        "Identify the most popular hour of the day for picking up a shared electric car (Bluecar) in the city of Paris over the month of April 2018."
      ]
    },
    {
      "cell_type": "code",
      "metadata": {
        "id": "0imfIBYiQZrO",
        "colab_type": "code",
        "colab": {
          "base_uri": "https://localhost:8080/",
          "height": 68
        },
        "outputId": "edb58c51-f947-48b9-ed48-e990d0065a38"
      },
      "source": [
        "#sorted[].groupby('hour')['hour'].count().sort_values(ascending = False)\n",
        "RQ = sorted[(sorted.City == 'Paris') & (sorted.blue_use<0)].groupby('hour')['blue_use'].count().sort_values(ascending = False)[:1]\n",
        "RQ"
      ],
      "execution_count": null,
      "outputs": [
        {
          "output_type": "execute_result",
          "data": {
            "text/plain": [
              "hour\n",
              "21    67\n",
              "Name: blue_use, dtype: int64"
            ]
          },
          "metadata": {
            "tags": []
          },
          "execution_count": 196
        }
      ]
    }
  ]
}